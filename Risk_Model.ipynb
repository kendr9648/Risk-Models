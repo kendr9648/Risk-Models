{
 "cells": [
  {
   "cell_type": "markdown",
   "id": "08297bd8-d45f-4724-ae53-f85ca5dcfcfb",
   "metadata": {},
   "source": [
    "# Risk assessment Model\n",
    "\n",
    "* Predict likelihood of a loan default\n",
    "* Develop a credit score for individuals based on risk levels"
   ]
  },
  {
   "cell_type": "markdown",
   "id": "ca2d3cde-453d-41d8-8b80-840c8e0e5410",
   "metadata": {},
   "source": [
    "We will be using logistic regression for this model"
   ]
  },
  {
   "cell_type": "markdown",
   "id": "c55e2d31-d0d4-4aa7-b708-6367d2cb34bb",
   "metadata": {},
   "source": [
    "**Problem statement:**\n",
    "\n",
    "Based on the individuals data, predict whether they will default on a loan or not\n",
    "\n",
    "**Variables and Parameters**\n",
    "\n",
    "- We have $17$ features (independent variables) which are too many to list but some of which are:\n",
    "    -  age\n",
    "    -  job\n",
    "    -  marital status\n",
    "    -  education\n",
    "- We have a target variable (dependent variable) of loan defaults.\n",
    "- Regularization parameter, $\\alpha$\n",
    "- Vector of logistic regression parameters, $\\bf{W}$\n",
    "- Bias ${b}$"
   ]
  },
  {
   "cell_type": "markdown",
   "id": "dbe1517b-23d5-4cce-85af-8575fcdef246",
   "metadata": {},
   "source": [
    "**Assumptions and Constraints:**\n",
    "- we will assume we can split the data in to a training set and a testing set with an 80-20 split\n",
    "    - assume the model score is representative of when we deploy the model\n",
    "- each features is independent and each observation independent\n",
    "- only consider the $6$ features in the dataset (i.e., there are no external factors)\n",
    "- the data is appropriate for logistic regression\n",
    "- trends in historical data will continue and there is no sudden changes (e.g., stock market doesn't crash)"
   ]
  },
  {
   "cell_type": "code",
   "execution_count": 1,
   "id": "4025c316-c464-44e5-90a1-ca12b30792cf",
   "metadata": {},
   "outputs": [],
   "source": [
    "import numpy as np\n",
    "import matplotlib.pyplot as plt\n",
    "import random\n",
    "from scipy.stats import norm\n",
    "from scipy import stats\n",
    "import scipy.integrate as integrate\n",
    "%matplotlib inline\n",
    "import pandas as pd\n",
    "from sklearn.linear_model import LogisticRegression\n",
    "from sklearn.model_selection import train_test_split\n",
    "from sklearn.metrics import confusion_matrix\n",
    "from sklearn.preprocessing import StandardScaler"
   ]
  },
  {
   "cell_type": "code",
   "execution_count": 2,
   "id": "19f793ea-d4e0-4e06-b6a4-e6776c9487e9",
   "metadata": {},
   "outputs": [
    {
     "data": {
      "text/plain": [
       "(4521, 17)"
      ]
     },
     "execution_count": 2,
     "metadata": {},
     "output_type": "execute_result"
    }
   ],
   "source": [
    "bank_data = pd.read_csv(\"bank.csv\",delimiter=\";\")\n",
    "bank_data.shape"
   ]
  },
  {
   "cell_type": "code",
   "execution_count": 3,
   "id": "83d894ad-6f2a-4e5d-9dbe-5064f217fb2e",
   "metadata": {},
   "outputs": [
    {
     "data": {
      "text/html": [
       "<div>\n",
       "<style scoped>\n",
       "    .dataframe tbody tr th:only-of-type {\n",
       "        vertical-align: middle;\n",
       "    }\n",
       "\n",
       "    .dataframe tbody tr th {\n",
       "        vertical-align: top;\n",
       "    }\n",
       "\n",
       "    .dataframe thead th {\n",
       "        text-align: right;\n",
       "    }\n",
       "</style>\n",
       "<table border=\"1\" class=\"dataframe\">\n",
       "  <thead>\n",
       "    <tr style=\"text-align: right;\">\n",
       "      <th></th>\n",
       "      <th>age</th>\n",
       "      <th>job</th>\n",
       "      <th>marital</th>\n",
       "      <th>education</th>\n",
       "      <th>default</th>\n",
       "      <th>balance</th>\n",
       "      <th>housing</th>\n",
       "      <th>loan</th>\n",
       "      <th>contact</th>\n",
       "      <th>day</th>\n",
       "      <th>month</th>\n",
       "      <th>duration</th>\n",
       "      <th>campaign</th>\n",
       "      <th>pdays</th>\n",
       "      <th>previous</th>\n",
       "      <th>poutcome</th>\n",
       "      <th>y</th>\n",
       "    </tr>\n",
       "  </thead>\n",
       "  <tbody>\n",
       "    <tr>\n",
       "      <th>0</th>\n",
       "      <td>30</td>\n",
       "      <td>unemployed</td>\n",
       "      <td>married</td>\n",
       "      <td>primary</td>\n",
       "      <td>no</td>\n",
       "      <td>1787</td>\n",
       "      <td>no</td>\n",
       "      <td>no</td>\n",
       "      <td>cellular</td>\n",
       "      <td>19</td>\n",
       "      <td>oct</td>\n",
       "      <td>79</td>\n",
       "      <td>1</td>\n",
       "      <td>-1</td>\n",
       "      <td>0</td>\n",
       "      <td>unknown</td>\n",
       "      <td>no</td>\n",
       "    </tr>\n",
       "    <tr>\n",
       "      <th>1</th>\n",
       "      <td>33</td>\n",
       "      <td>services</td>\n",
       "      <td>married</td>\n",
       "      <td>secondary</td>\n",
       "      <td>no</td>\n",
       "      <td>4789</td>\n",
       "      <td>yes</td>\n",
       "      <td>yes</td>\n",
       "      <td>cellular</td>\n",
       "      <td>11</td>\n",
       "      <td>may</td>\n",
       "      <td>220</td>\n",
       "      <td>1</td>\n",
       "      <td>339</td>\n",
       "      <td>4</td>\n",
       "      <td>failure</td>\n",
       "      <td>no</td>\n",
       "    </tr>\n",
       "    <tr>\n",
       "      <th>2</th>\n",
       "      <td>35</td>\n",
       "      <td>management</td>\n",
       "      <td>single</td>\n",
       "      <td>tertiary</td>\n",
       "      <td>no</td>\n",
       "      <td>1350</td>\n",
       "      <td>yes</td>\n",
       "      <td>no</td>\n",
       "      <td>cellular</td>\n",
       "      <td>16</td>\n",
       "      <td>apr</td>\n",
       "      <td>185</td>\n",
       "      <td>1</td>\n",
       "      <td>330</td>\n",
       "      <td>1</td>\n",
       "      <td>failure</td>\n",
       "      <td>no</td>\n",
       "    </tr>\n",
       "    <tr>\n",
       "      <th>3</th>\n",
       "      <td>30</td>\n",
       "      <td>management</td>\n",
       "      <td>married</td>\n",
       "      <td>tertiary</td>\n",
       "      <td>no</td>\n",
       "      <td>1476</td>\n",
       "      <td>yes</td>\n",
       "      <td>yes</td>\n",
       "      <td>unknown</td>\n",
       "      <td>3</td>\n",
       "      <td>jun</td>\n",
       "      <td>199</td>\n",
       "      <td>4</td>\n",
       "      <td>-1</td>\n",
       "      <td>0</td>\n",
       "      <td>unknown</td>\n",
       "      <td>no</td>\n",
       "    </tr>\n",
       "    <tr>\n",
       "      <th>4</th>\n",
       "      <td>59</td>\n",
       "      <td>blue-collar</td>\n",
       "      <td>married</td>\n",
       "      <td>secondary</td>\n",
       "      <td>no</td>\n",
       "      <td>0</td>\n",
       "      <td>yes</td>\n",
       "      <td>no</td>\n",
       "      <td>unknown</td>\n",
       "      <td>5</td>\n",
       "      <td>may</td>\n",
       "      <td>226</td>\n",
       "      <td>1</td>\n",
       "      <td>-1</td>\n",
       "      <td>0</td>\n",
       "      <td>unknown</td>\n",
       "      <td>no</td>\n",
       "    </tr>\n",
       "  </tbody>\n",
       "</table>\n",
       "</div>"
      ],
      "text/plain": [
       "   age          job  marital  education default  balance housing loan  \\\n",
       "0   30   unemployed  married    primary      no     1787      no   no   \n",
       "1   33     services  married  secondary      no     4789     yes  yes   \n",
       "2   35   management   single   tertiary      no     1350     yes   no   \n",
       "3   30   management  married   tertiary      no     1476     yes  yes   \n",
       "4   59  blue-collar  married  secondary      no        0     yes   no   \n",
       "\n",
       "    contact  day month  duration  campaign  pdays  previous poutcome   y  \n",
       "0  cellular   19   oct        79         1     -1         0  unknown  no  \n",
       "1  cellular   11   may       220         1    339         4  failure  no  \n",
       "2  cellular   16   apr       185         1    330         1  failure  no  \n",
       "3   unknown    3   jun       199         4     -1         0  unknown  no  \n",
       "4   unknown    5   may       226         1     -1         0  unknown  no  "
      ]
     },
     "execution_count": 3,
     "metadata": {},
     "output_type": "execute_result"
    }
   ],
   "source": [
    "bank_data.head()"
   ]
  },
  {
   "cell_type": "code",
   "execution_count": 4,
   "id": "5af90651-5933-4431-a975-d3ffdeb2afeb",
   "metadata": {},
   "outputs": [],
   "source": [
    "bank_data['default'] = bank_data['default'].map({'yes': 1, 'no': 0})\n",
    "bank_data['housing'] = bank_data['housing'].map({'yes': 1, 'no': 0})\n",
    "bank_data['loan'] = bank_data['loan'].map({'yes': 1, 'no': 0})\n",
    "bank_data['y'] = bank_data['y'].map({'yes': 1, 'no': 0})"
   ]
  },
  {
   "cell_type": "code",
   "execution_count": 5,
   "id": "8e0b44da-4416-4d4b-a6b8-e860b1d8b6dd",
   "metadata": {},
   "outputs": [],
   "source": [
    "X = bank_data.iloc[:,[0,4,5,6,7,11,12,13,14]].values\n",
    "y = bank_data.iloc[:,16].values"
   ]
  },
  {
   "cell_type": "code",
   "execution_count": 6,
   "id": "60f4072d-a671-42cc-bcae-1a4ebb2fbbcd",
   "metadata": {},
   "outputs": [],
   "source": [
    "model = LogisticRegression(max_iter = 5000).fit(X,y)"
   ]
  },
  {
   "cell_type": "code",
   "execution_count": 7,
   "id": "856e64ec-d1c3-42c0-96df-d1d92cd8570c",
   "metadata": {},
   "outputs": [
    {
     "data": {
      "text/plain": [
       "array([1865], dtype=int32)"
      ]
     },
     "execution_count": 7,
     "metadata": {},
     "output_type": "execute_result"
    }
   ],
   "source": [
    "model.n_iter_"
   ]
  },
  {
   "cell_type": "code",
   "execution_count": 8,
   "id": "38bb1e51-331f-4a4e-bbbb-255e77de70c8",
   "metadata": {},
   "outputs": [
    {
     "data": {
      "image/png": "[encoded data removed]",
      "text/plain": [
       "<Figure size 640x480 with 1 Axes>"
      ]
     },
     "metadata": {},
     "output_type": "display_data"
    }
   ],
   "source": [
    "plt.bar(range(X.shape[1]),X.mean(axis=0))\n",
    "plt.show()"
   ]
  },
  {
   "cell_type": "code",
   "execution_count": 9,
   "id": "f26f7701-37a3-43ff-abd9-1e4d22075d88",
   "metadata": {},
   "outputs": [],
   "source": [
    "Xs = StandardScaler().fit_transform(X)"
   ]
  },
  {
   "cell_type": "code",
   "execution_count": 10,
   "id": "6bfb4ec9-e3d0-47d5-9f42-771b7f67d11d",
   "metadata": {},
   "outputs": [
    {
     "data": {
      "image/png": "[encoded data removed]",
      "text/plain": [
       "<Figure size 640x480 with 1 Axes>"
      ]
     },
     "metadata": {},
     "output_type": "display_data"
    }
   ],
   "source": [
    "plt.hist(Xs[:,5],bins=20,density=True)\n",
    "plt.show()"
   ]
  },
  {
   "cell_type": "code",
   "execution_count": 11,
   "id": "ad9e30c3-8933-491e-b8c9-4bfc29d8220b",
   "metadata": {},
   "outputs": [],
   "source": [
    "model = LogisticRegression(max_iter=1000).fit(Xs,y)"
   ]
  },
  {
   "cell_type": "code",
   "execution_count": 14,
   "id": "0a6391d2-9b7b-4def-bb64-1e7af0435e0c",
   "metadata": {},
   "outputs": [
    {
     "data": {
      "text/plain": [
       "array([9], dtype=int32)"
      ]
     },
     "execution_count": 14,
     "metadata": {},
     "output_type": "execute_result"
    }
   ],
   "source": [
    "model.n_iter_"
   ]
  },
  {
   "cell_type": "code",
   "execution_count": 15,
   "id": "cca9bd3c-5cbc-49de-a911-bf085eaa508e",
   "metadata": {},
   "outputs": [
    {
     "name": "stderr",
     "output_type": "stream",
     "text": [
      "<>:22: SyntaxWarning: invalid escape sequence '\\l'\n",
      "<>:22: SyntaxWarning: invalid escape sequence '\\l'\n",
      "/tmp/ipykernel_1129/3873499064.py:22: SyntaxWarning: invalid escape sequence '\\l'\n",
      "  plt.grid(True), plt.colorbar(label='$\\log_{10}(alpha)$')\n"
     ]
    },
    {
     "data": {
      "image/png": "[encoded data removed]",
      "text/plain": [
       "<Figure size 640x480 with 2 Axes>"
      ]
     },
     "metadata": {},
     "output_type": "display_data"
    }
   ],
   "source": [
    "def costCE(W,b,X,y):\n",
    "    N,p = X.shape\n",
    "    W = np.array(W).reshape(p,1)\n",
    "    y = np.array(y).reshape(N,1)\n",
    "    S = 1/(1 + np.exp(-(X@W + b)))\n",
    "    L = -1/N*np.sum(y*np.log(S) + (1 - y)*np.log(1 - S))\n",
    "    return L\n",
    "\n",
    "CEs = []\n",
    "Rs = []\n",
    "alphas = np.logspace(-1,4,20)\n",
    "for alpha in alphas:\n",
    "    model = LogisticRegression(C=1/alpha,max_iter=1000).fit(Xs,y)\n",
    "    W = model.coef_\n",
    "    b = model.intercept_\n",
    "    CE = costCE(W,b,Xs,y)\n",
    "    R = np.linalg.norm(W)**2\n",
    "    CEs.append(CE)\n",
    "    Rs.append(R)\n",
    "\n",
    "plt.scatter(Rs,CEs,c=np.log10(alphas))\n",
    "plt.grid(True), plt.colorbar(label='$\\log_{10}(alpha)$')\n",
    "plt.xlabel('$|| W ||^2$')\n",
    "plt.ylabel('Cross Entropy')\n",
    "plt.show()"
   ]
  },
  {
   "cell_type": "code",
   "execution_count": 16,
   "id": "d1b94c47-7966-46bc-8d3d-ba6fb87c2953",
   "metadata": {},
   "outputs": [
    {
     "data": {
      "text/plain": [
       "array([10], dtype=int32)"
      ]
     },
     "execution_count": 16,
     "metadata": {},
     "output_type": "execute_result"
    }
   ],
   "source": [
    "a = 1/(10**1.4)\n",
    "model = LogisticRegression(C=a,max_iter=1000).fit(Xs,y)\n",
    "model.n_iter_"
   ]
  },
  {
   "cell_type": "code",
   "execution_count": 32,
   "id": "3b3a7571-8940-48aa-977c-855b2f8607cd",
   "metadata": {},
   "outputs": [],
   "source": [
    "Xs_train, Xs_test, y_train, y_test = train_test_split(Xs,y,test_size=0.4)"
   ]
  },
  {
   "cell_type": "code",
   "execution_count": 33,
   "id": "6ebf4166-4f99-4d0e-8dfc-7987def7978e",
   "metadata": {},
   "outputs": [],
   "source": [
    "model_train = LogisticRegression(C=a,max_iter=1000).fit(Xs_train,y_train)"
   ]
  },
  {
   "cell_type": "code",
   "execution_count": 34,
   "id": "880bae1a-9f99-418d-8d1a-0840bd1e2401",
   "metadata": {},
   "outputs": [
    {
     "data": {
      "text/plain": [
       "array([8], dtype=int32)"
      ]
     },
     "execution_count": 34,
     "metadata": {},
     "output_type": "execute_result"
    }
   ],
   "source": [
    "model_train.n_iter_"
   ]
  },
  {
   "cell_type": "code",
   "execution_count": 35,
   "id": "57e0db43-e1cf-4826-a02d-ad7f92544272",
   "metadata": {},
   "outputs": [
    {
     "data": {
      "text/plain": [
       "0.8949695964621338"
      ]
     },
     "execution_count": 35,
     "metadata": {},
     "output_type": "execute_result"
    }
   ],
   "source": [
    "model_train.score(Xs_test,y_test)"
   ]
  },
  {
   "cell_type": "code",
   "execution_count": 36,
   "id": "21ed18db-7ffa-4f59-9ef8-9a7dc0bd5ff6",
   "metadata": {},
   "outputs": [
    {
     "data": {
      "text/plain": [
       "array([[1581,   30],\n",
       "       [ 160,   38]])"
      ]
     },
     "execution_count": 36,
     "metadata": {},
     "output_type": "execute_result"
    }
   ],
   "source": [
    "C = confusion_matrix(y_test,model_train.predict(Xs_test))\n",
    "\n",
    "C"
   ]
  },
  {
   "cell_type": "code",
   "execution_count": 37,
   "id": "4b85fd3d-92b4-4aae-ae52-7dbf3ba77456",
   "metadata": {},
   "outputs": [
    {
     "data": {
      "text/plain": [
       "0.1919191919191919"
      ]
     },
     "execution_count": 37,
     "metadata": {},
     "output_type": "execute_result"
    }
   ],
   "source": [
    "C[1,1]/(C[1,0] + C[1,1])"
   ]
  },
  {
   "cell_type": "markdown",
   "id": "e1d478b8-2cfb-4796-aa27-613f48403d1c",
   "metadata": {},
   "source": [
    "As we can see, the prediction for whether or not someone will default on their loan accurately is ~20% which is better than nothing but not great, we can see that this increases as we change the split of the train and test.\n",
    "\n",
    "Some other ways to improve this accuracy is to use a larger data set and also consider more features."
   ]
  },
  {
   "cell_type": "code",
   "execution_count": null,
   "id": "0c77b13a-576f-443f-ac6d-14646d95e0ff",
   "metadata": {},
   "outputs": [],
   "source": []
  }
 ],
 "metadata": {
  "kernelspec": {
   "display_name": "Python 3 (ipykernel)",
   "language": "python",
   "name": "python3"
  },
  "language_info": {
   "codemirror_mode": {
    "name": "ipython",
    "version": 3
   },
   "file_extension": ".py",
   "mimetype": "text/x-python",
   "name": "python",
   "nbconvert_exporter": "python",
   "pygments_lexer": "ipython3",
   "version": "3.12.8"
  }
 },
 "nbformat": 4,
 "nbformat_minor": 5
}
